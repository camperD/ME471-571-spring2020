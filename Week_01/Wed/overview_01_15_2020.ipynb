{
 "cells": [
  {
   "cell_type": "markdown",
   "metadata": {},
   "source": [
    "<hr style=\"border-width:3px; border-color:coral\"/>\n",
    "\n",
    "# Week 1 : Wednesday, 1/15/2020\n",
    "\n",
    "<hr style=\"border-width:3px; border-color:coral\"/>\n",
    "\n",
    "## Goals : \n",
    "\n",
    "* Learn to interact with bash command line through Python and Jupyter notebooks\n",
    "\n",
    "     * This will be useful when running programs through a Jupyter notebook\n",
    "    \n",
    "    \n",
    "* Learn how to query a machine to see how many processes/threads/cores are available\n",
    "\n",
    "\n",
    "* Create processes using the Python `multiprocessing` module\n",
    "\n",
    "\n",
    "* Obtain some preliminary timing results, store them in a Panda's DataFrame, and display some initial results. "
   ]
  },
  {
   "cell_type": "code",
   "execution_count": null,
   "metadata": {},
   "outputs": [],
   "source": []
  }
 ],
 "metadata": {
  "kernelspec": {
   "display_name": "Python 3",
   "language": "python",
   "name": "python3"
  },
  "language_info": {
   "codemirror_mode": {
    "name": "ipython",
    "version": 3
   },
   "file_extension": ".py",
   "mimetype": "text/x-python",
   "name": "python",
   "nbconvert_exporter": "python",
   "pygments_lexer": "ipython3",
   "version": "3.7.4"
  }
 },
 "nbformat": 4,
 "nbformat_minor": 2
}
