{
 "cells": [
  {
   "cell_type": "markdown",
   "metadata": {},
   "source": [
    "<hr style=\"border-width:3px; border-color:coral\"/>\n",
    "\n",
    "# Running shell commands from Python using `subprocess`\n",
    "\n",
    "<hr style=\"border-width:3px; border-color:coral\"/>\n",
    "\n",
    "Best way to run command shell/terminal commands from Python is to use the 'subprocess' module.\n",
    "You can read more about the 'subprocess' command [here](https://docs.python.org/3/library/subprocess.html).\n",
    "\n",
    "We will use the `subprocess.run()` command.  Let's try it with a very simple command.  \n",
    "\n",
    "    $ echo \"Hello, World!\"\n",
    "    Hello, World!\n",
    "\n",
    "We first need to import the 'subprocess' module. "
   ]
  },
  {
   "cell_type": "code",
   "execution_count": 1,
   "metadata": {},
   "outputs": [],
   "source": [
    "import subprocess"
   ]
  },
  {
   "cell_type": "markdown",
   "metadata": {},
   "source": [
    "In the spirit of \"RTFM is for sissy-weasels\", let's try something obvious. "
   ]
  },
  {
   "cell_type": "code",
   "execution_count": 2,
   "metadata": {},
   "outputs": [
    {
     "ename": "FileNotFoundError",
     "evalue": "[Errno 2] No such file or directory: 'echo \"Hello, World!\"': 'echo \"Hello, World!\"'",
     "output_type": "error",
     "traceback": [
      "\u001b[0;31m---------------------------------------------------------------------------\u001b[0m",
      "\u001b[0;31mFileNotFoundError\u001b[0m                         Traceback (most recent call last)",
      "\u001b[0;32m<ipython-input-2-49672a06a6ac>\u001b[0m in \u001b[0;36m<module>\u001b[0;34m\u001b[0m\n\u001b[0;32m----> 1\u001b[0;31m \u001b[0msubprocess\u001b[0m\u001b[0;34m.\u001b[0m\u001b[0mrun\u001b[0m\u001b[0;34m(\u001b[0m\u001b[0;34m'echo \"Hello, World!\"'\u001b[0m\u001b[0;34m)\u001b[0m\u001b[0;34m\u001b[0m\u001b[0;34m\u001b[0m\u001b[0m\n\u001b[0m",
      "\u001b[0;32m/usr/local/anaconda3/lib/python3.7/subprocess.py\u001b[0m in \u001b[0;36mrun\u001b[0;34m(input, capture_output, timeout, check, *popenargs, **kwargs)\u001b[0m\n\u001b[1;32m    470\u001b[0m         \u001b[0mkwargs\u001b[0m\u001b[0;34m[\u001b[0m\u001b[0;34m'stderr'\u001b[0m\u001b[0;34m]\u001b[0m \u001b[0;34m=\u001b[0m \u001b[0mPIPE\u001b[0m\u001b[0;34m\u001b[0m\u001b[0;34m\u001b[0m\u001b[0m\n\u001b[1;32m    471\u001b[0m \u001b[0;34m\u001b[0m\u001b[0m\n\u001b[0;32m--> 472\u001b[0;31m     \u001b[0;32mwith\u001b[0m \u001b[0mPopen\u001b[0m\u001b[0;34m(\u001b[0m\u001b[0;34m*\u001b[0m\u001b[0mpopenargs\u001b[0m\u001b[0;34m,\u001b[0m \u001b[0;34m**\u001b[0m\u001b[0mkwargs\u001b[0m\u001b[0;34m)\u001b[0m \u001b[0;32mas\u001b[0m \u001b[0mprocess\u001b[0m\u001b[0;34m:\u001b[0m\u001b[0;34m\u001b[0m\u001b[0;34m\u001b[0m\u001b[0m\n\u001b[0m\u001b[1;32m    473\u001b[0m         \u001b[0;32mtry\u001b[0m\u001b[0;34m:\u001b[0m\u001b[0;34m\u001b[0m\u001b[0;34m\u001b[0m\u001b[0m\n\u001b[1;32m    474\u001b[0m             \u001b[0mstdout\u001b[0m\u001b[0;34m,\u001b[0m \u001b[0mstderr\u001b[0m \u001b[0;34m=\u001b[0m \u001b[0mprocess\u001b[0m\u001b[0;34m.\u001b[0m\u001b[0mcommunicate\u001b[0m\u001b[0;34m(\u001b[0m\u001b[0minput\u001b[0m\u001b[0;34m,\u001b[0m \u001b[0mtimeout\u001b[0m\u001b[0;34m=\u001b[0m\u001b[0mtimeout\u001b[0m\u001b[0;34m)\u001b[0m\u001b[0;34m\u001b[0m\u001b[0;34m\u001b[0m\u001b[0m\n",
      "\u001b[0;32m/usr/local/anaconda3/lib/python3.7/subprocess.py\u001b[0m in \u001b[0;36m__init__\u001b[0;34m(self, args, bufsize, executable, stdin, stdout, stderr, preexec_fn, close_fds, shell, cwd, env, universal_newlines, startupinfo, creationflags, restore_signals, start_new_session, pass_fds, encoding, errors, text)\u001b[0m\n\u001b[1;32m    773\u001b[0m                                 \u001b[0mc2pread\u001b[0m\u001b[0;34m,\u001b[0m \u001b[0mc2pwrite\u001b[0m\u001b[0;34m,\u001b[0m\u001b[0;34m\u001b[0m\u001b[0;34m\u001b[0m\u001b[0m\n\u001b[1;32m    774\u001b[0m                                 \u001b[0merrread\u001b[0m\u001b[0;34m,\u001b[0m \u001b[0merrwrite\u001b[0m\u001b[0;34m,\u001b[0m\u001b[0;34m\u001b[0m\u001b[0;34m\u001b[0m\u001b[0m\n\u001b[0;32m--> 775\u001b[0;31m                                 restore_signals, start_new_session)\n\u001b[0m\u001b[1;32m    776\u001b[0m         \u001b[0;32mexcept\u001b[0m\u001b[0;34m:\u001b[0m\u001b[0;34m\u001b[0m\u001b[0;34m\u001b[0m\u001b[0m\n\u001b[1;32m    777\u001b[0m             \u001b[0;31m# Cleanup if the child failed starting.\u001b[0m\u001b[0;34m\u001b[0m\u001b[0;34m\u001b[0m\u001b[0;34m\u001b[0m\u001b[0m\n",
      "\u001b[0;32m/usr/local/anaconda3/lib/python3.7/subprocess.py\u001b[0m in \u001b[0;36m_execute_child\u001b[0;34m(self, args, executable, preexec_fn, close_fds, pass_fds, cwd, env, startupinfo, creationflags, shell, p2cread, p2cwrite, c2pread, c2pwrite, errread, errwrite, restore_signals, start_new_session)\u001b[0m\n\u001b[1;32m   1520\u001b[0m                         \u001b[0;32mif\u001b[0m \u001b[0merrno_num\u001b[0m \u001b[0;34m==\u001b[0m \u001b[0merrno\u001b[0m\u001b[0;34m.\u001b[0m\u001b[0mENOENT\u001b[0m\u001b[0;34m:\u001b[0m\u001b[0;34m\u001b[0m\u001b[0;34m\u001b[0m\u001b[0m\n\u001b[1;32m   1521\u001b[0m                             \u001b[0merr_msg\u001b[0m \u001b[0;34m+=\u001b[0m \u001b[0;34m': '\u001b[0m \u001b[0;34m+\u001b[0m \u001b[0mrepr\u001b[0m\u001b[0;34m(\u001b[0m\u001b[0merr_filename\u001b[0m\u001b[0;34m)\u001b[0m\u001b[0;34m\u001b[0m\u001b[0;34m\u001b[0m\u001b[0m\n\u001b[0;32m-> 1522\u001b[0;31m                     \u001b[0;32mraise\u001b[0m \u001b[0mchild_exception_type\u001b[0m\u001b[0;34m(\u001b[0m\u001b[0merrno_num\u001b[0m\u001b[0;34m,\u001b[0m \u001b[0merr_msg\u001b[0m\u001b[0;34m,\u001b[0m \u001b[0merr_filename\u001b[0m\u001b[0;34m)\u001b[0m\u001b[0;34m\u001b[0m\u001b[0;34m\u001b[0m\u001b[0m\n\u001b[0m\u001b[1;32m   1523\u001b[0m                 \u001b[0;32mraise\u001b[0m \u001b[0mchild_exception_type\u001b[0m\u001b[0;34m(\u001b[0m\u001b[0merr_msg\u001b[0m\u001b[0;34m)\u001b[0m\u001b[0;34m\u001b[0m\u001b[0;34m\u001b[0m\u001b[0m\n\u001b[1;32m   1524\u001b[0m \u001b[0;34m\u001b[0m\u001b[0m\n",
      "\u001b[0;31mFileNotFoundError\u001b[0m: [Errno 2] No such file or directory: 'echo \"Hello, World!\"': 'echo \"Hello, World!\"'"
     ]
    }
   ],
   "source": [
    "subprocess.run('echo \"Hello, World!\"')"
   ]
  },
  {
   "cell_type": "markdown",
   "metadata": {},
   "source": [
    "That went well.  Let's try reading up on the `subprocess` command....\n",
    "\n",
    "Let's specify that this is a 'shell' command : "
   ]
  },
  {
   "cell_type": "code",
   "execution_count": 3,
   "metadata": {},
   "outputs": [
    {
     "data": {
      "text/plain": [
       "CompletedProcess(args='echo \"Hello, World!\"', returncode=0)"
      ]
     },
     "execution_count": 3,
     "metadata": {},
     "output_type": "execute_result"
    }
   ],
   "source": [
    "subprocess.run('echo \"Hello, World!\"',shell=True)"
   ]
  },
  {
   "cell_type": "markdown",
   "metadata": {},
   "source": [
    "Better,  but not what we expect.  Before parsing the output, let's modify how we supply the input command. \n",
    "\n",
    "It will be preferable to split the shell command into 'tokens', or a list of arguments.  Why? \n",
    "\n",
    "* Increases portability when handling different operating systems and shells, \n",
    "* Allows for easy replacement of individual arguments to get more flexible behavior.  "
   ]
  },
  {
   "cell_type": "code",
   "execution_count": 4,
   "metadata": {},
   "outputs": [
    {
     "data": {
      "text/plain": [
       "CompletedProcess(args=['echo', '\"Hello, World!\"'], returncode=0)"
      ]
     },
     "execution_count": 4,
     "metadata": {},
     "output_type": "execute_result"
    }
   ],
   "source": [
    "# Split command into an argument list.  Here, we use a Python list using []\n",
    "cmd = 'echo \"Hello, World!\"'\n",
    "\n",
    "# Split or 'tokenize' the command into a list of arguments\n",
    "cmd_args = ['echo','\"Hello, World!\"'] \n",
    "\n",
    "# Use subprocess again.  Note that we don't need the 'shell=True' argument anymore.\n",
    "subprocess.run(args=cmd_args)"
   ]
  },
  {
   "cell_type": "markdown",
   "metadata": {},
   "source": [
    "Now let's work on the getting the output we expect.  What we need to do is to **capture** the output.  To do this, we add one more argument to our `subprocess.run()` command.  \n",
    "\n",
    "And, because we are lazy, we use the `shlex` module to split our command line for us. "
   ]
  },
  {
   "cell_type": "code",
   "execution_count": 5,
   "metadata": {},
   "outputs": [
    {
     "data": {
      "text/plain": [
       "b'Hello, World!\\n'"
      ]
     },
     "execution_count": 5,
     "metadata": {},
     "output_type": "execute_result"
    }
   ],
   "source": [
    "import shlex\n",
    "\n",
    "cmd = 'echo \"Hello, World!\"'\n",
    "cmd_args = shlex.split(cmd)    # Split or 'tokenize' the command into list of arguments\n",
    "\n",
    "# Add arguments to parse output\n",
    "output = subprocess.run(args=cmd_args,capture_output=True)\n",
    "output.stdout    # Returns a string with weird characters"
   ]
  },
  {
   "cell_type": "markdown",
   "metadata": {},
   "source": [
    "To get rid of the byte encoding, we use one more command.  This, and the \n",
    "print command, we will get the results that we want."
   ]
  },
  {
   "cell_type": "code",
   "execution_count": 6,
   "metadata": {},
   "outputs": [
    {
     "name": "stdout",
     "output_type": "stream",
     "text": [
      "Hello, World!\n",
      "\n"
     ]
    }
   ],
   "source": [
    "cmd = 'echo \"Hello, World!\"'\n",
    "cmd_args = shlex.split(cmd)\n",
    "\n",
    "output = subprocess.run(args=cmd_args,capture_output=True,text=True)\n",
    "print(output.stdout)    # Print adds an extra '\\n' (in addition to one in output.stdout)"
   ]
  },
  {
   "cell_type": "markdown",
   "metadata": {},
   "source": [
    "It may bug you that there seems to be an extra blank line after the output (it bugs me).  \n",
    "\n",
    "The string `output.stdout` already includes a line feed `'\\n'` and the print statement adds a second newline character, and so we get that extra blank line in the output.\n",
    "\n",
    "We can get rid of the extra newline that the print statement provides by supplying the `end` argument to the `print` statement"
   ]
  },
  {
   "cell_type": "code",
   "execution_count": 7,
   "metadata": {},
   "outputs": [
    {
     "name": "stdout",
     "output_type": "stream",
     "text": [
      "Hello, World!\n"
     ]
    }
   ],
   "source": [
    "print(output.stdout,end='')   "
   ]
  },
  {
   "cell_type": "markdown",
   "metadata": {},
   "source": [
    "<hr style=\"border-width:3px; border-color:black\"/>"
   ]
  },
  {
   "cell_type": "markdown",
   "metadata": {},
   "source": [
    "<hr style=\"border-width:3px; border-color:coral\"/>\n",
    "\n",
    "## Complete examples using shell commands\n",
    "<hr style=\"border-width:3px; border-color:coral\"/>\n",
    "\n",
    "\n",
    "Finally, here are some examples of other shell commands we might want to use.  \n",
    "\n",
    "* Ex 1 : Get current working directory\n",
    "\n",
    "      $ pwd\n",
    "      /Users/calhoun/www/parallel-programming/python/parallel\n",
    "\n",
    "* Ex 2 : Find files in your current directory : \n",
    "\n",
    "      $ ls -lh\n",
    "      total 76K\n",
    "      drwxr-xr-x 24 calhoun staff  768 Jan 15 07:40 Demos_Fall2019/\n",
    "      -rw-r--r--  1 calhoun staff  67K Jan 15 09:17 multiprocessing_demo0.ipynb\n",
    "      -rw-r--r--  1 calhoun staff 5.7K Jan 15 09:27 shellcommands_demo.ipynb\n",
    "          \n",
    "* Ex 3 : What shell are we using?  Query an environment variable\n",
    "\n",
    "      $ echo $SHELL\n",
    "      /opt/local/bin/bash\n",
    "\n",
    "* Ex 4 : Time the sleep command\n",
    "\n",
    "      $ time sleep 10           \n",
    "\n",
    "      real  0m10.022s\n",
    "      user  0m0.002s\n",
    "      sys   0m0.004s"
   ]
  },
  {
   "cell_type": "code",
   "execution_count": 9,
   "metadata": {},
   "outputs": [],
   "source": [
    "# Import necessary modules (already done above, but put here as a reminder)\n",
    "import subprocess\n",
    "import shlex"
   ]
  },
  {
   "cell_type": "code",
   "execution_count": 10,
   "metadata": {},
   "outputs": [
    {
     "name": "stdout",
     "output_type": "stream",
     "text": [
      "/Users/calhoun/ME471-571-spring2020/Week_01/Wed\n"
     ]
    }
   ],
   "source": [
    "# Ex 1 : Get current working directory\n",
    "cmd_args = shlex.split('pwd')\n",
    "output = subprocess.run(args=cmd_args,capture_output=True,text=True)\n",
    "print(output.stdout,end='')"
   ]
  },
  {
   "cell_type": "code",
   "execution_count": 11,
   "metadata": {},
   "outputs": [
    {
     "name": "stdout",
     "output_type": "stream",
     "text": [
      "total 328K\n",
      "-rw-r--r-- 1 calhoun staff 149K Jan 15 14:46 mean_demo0.ipynb\n",
      "-rw-r--r-- 1 calhoun staff  71K Jan 15 15:00 mean_demo1.ipynb\n",
      "-rw-r--r-- 1 calhoun staff  62K Jan 15 13:50 multiprocessing_demo0.ipynb\n",
      "-rw-r--r-- 1 calhoun staff 5.1K Jan 15 14:28 multiprocessing_demo1.ipynb\n",
      "-rw-r--r-- 1 calhoun staff 1.4K Jan 15 14:59 multiprocessing_demo2.ipynb\n",
      "-rw-r--r-- 1 calhoun staff 1.4K Jan 15 15:17 overview_01_15_2020.ipynb\n",
      "-rw-r--r-- 1 calhoun staff  15K Jan 15 15:26 shell_demo0.ipynb\n",
      "-rw-r--r-- 1 calhoun staff 6.6K Jan 15 14:58 shell_demo1.ipynb\n"
     ]
    }
   ],
   "source": [
    "# Ex 2 : List files in current directory\n",
    "cmd_args = shlex.split('ls -lh')\n",
    "output = subprocess.run(args=cmd_args,capture_output=True,text=True)\n",
    "print(output.stdout,end='')"
   ]
  },
  {
   "cell_type": "code",
   "execution_count": 12,
   "metadata": {},
   "outputs": [
    {
     "name": "stdout",
     "output_type": "stream",
     "text": [
      "/opt/local/bin/bash\n"
     ]
    }
   ],
   "source": [
    "# Ex 3 : Query environment variable\n",
    "import os\n",
    "\n",
    "cmd = ['echo',os.environ[\"SHELL\"]] \n",
    "output = subprocess.run(args=cmd,capture_output=True,text=True)\n",
    "print(output.stdout,end='')"
   ]
  },
  {
   "cell_type": "code",
   "execution_count": 13,
   "metadata": {},
   "outputs": [
    {
     "name": "stdout",
     "output_type": "stream",
     "text": [
      "       10.01 real         0.00 user         0.00 sys\n"
     ]
    }
   ],
   "source": [
    "# Ex 4 : Time to sleep.  Note use of 'stderr' rather than 'stdout'. \n",
    "cmd = shlex.split('time sleep 10')\n",
    "output = subprocess.run(args=cmd,capture_output=True,text=True)\n",
    "print(output.stderr,end='')"
   ]
  },
  {
   "cell_type": "code",
   "execution_count": 15,
   "metadata": {},
   "outputs": [
    {
     "name": "stdout",
     "output_type": "stream",
     "text": [
      "\n",
      "real\t0m0.001s\n",
      "user\t0m0.000s\n",
      "sys\t0m0.000s\n"
     ]
    }
   ],
   "source": [
    "# Ex 4 (revisited) : Time to sleep.  Note the use of the 'shell=True' argument.  \n",
    "cmd = shlex.split('time sleep 60')\n",
    "output = subprocess.run(args=cmd,capture_output=True,text=True, shell=True)\n",
    "print(output.stderr,end='')"
   ]
  },
  {
   "cell_type": "markdown",
   "metadata": {},
   "source": [
    "Why aren't we getting the correct timing results here?  ..... Stay tuned!"
   ]
  }
 ],
 "metadata": {
  "kernelspec": {
   "display_name": "Python 3",
   "language": "python",
   "name": "python3"
  },
  "language_info": {
   "codemirror_mode": {
    "name": "ipython",
    "version": 3
   },
   "file_extension": ".py",
   "mimetype": "text/x-python",
   "name": "python",
   "nbconvert_exporter": "python",
   "pygments_lexer": "ipython3",
   "version": "3.7.4"
  }
 },
 "nbformat": 4,
 "nbformat_minor": 2
}
