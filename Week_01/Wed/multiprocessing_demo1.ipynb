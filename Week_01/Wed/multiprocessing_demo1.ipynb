{
 "cells": [
  {
   "cell_type": "markdown",
   "metadata": {},
   "source": [
    "<hr style=\"border-width:3px; border-color:coral\"/>\n",
    "\n",
    "# Using the Python `multiprocessing` module\n",
    "\n",
    "<hr style=\"border-width:3px; border-color:coral\"/>\n",
    "\n",
    "The Python `multiprocessing` module allows you to start ('spawn') processes and communicate between processes.  You can read about the module [here](https://docs.python.org/2/library/multiprocessing.html).\n",
    "\n",
    "\n",
    "\n"
   ]
  },
  {
   "cell_type": "code",
   "execution_count": 1,
   "metadata": {},
   "outputs": [],
   "source": [
    "import multiprocessing as mp"
   ]
  },
  {
   "cell_type": "code",
   "execution_count": 2,
   "metadata": {},
   "outputs": [
    {
     "name": "stdout",
     "output_type": "stream",
     "text": [
      "All done \n",
      "Hello!\n"
     ]
    }
   ],
   "source": [
    "def sayhello():\n",
    "    print(\"Hello!\")\n",
    "    \n",
    "job = mp.Process(target=sayhello)\n",
    "job.start()\n",
    "\n",
    "print(\"All done \")"
   ]
  },
  {
   "cell_type": "markdown",
   "metadata": {},
   "source": [
    "Notice that the 'All Done' appears before the \"Hello!\" greeting.   Why? \n",
    "\n",
    "Let's force the process to wait before printing 'All Done'. "
   ]
  },
  {
   "cell_type": "code",
   "execution_count": 3,
   "metadata": {},
   "outputs": [
    {
     "name": "stdout",
     "output_type": "stream",
     "text": [
      "Hello!\n",
      "All done \n"
     ]
    }
   ],
   "source": [
    "def sayhello():\n",
    "    print(\"Hello!\")\n",
    "    \n",
    "job = mp.Process(target=sayhello)\n",
    "job.start()\n",
    "\n",
    "# Wait for job to finish\n",
    "job.join()\n",
    "\n",
    "print(\"All done \")"
   ]
  },
  {
   "cell_type": "markdown",
   "metadata": {},
   "source": [
    "Now let's see if we can get some information from the current process. "
   ]
  },
  {
   "cell_type": "code",
   "execution_count": 4,
   "metadata": {},
   "outputs": [
    {
     "name": "stdout",
     "output_type": "stream",
     "text": [
      "Hello from Process-3\n",
      "All done \n"
     ]
    }
   ],
   "source": [
    "def sayhello():\n",
    "    id = mp.current_process().name\n",
    "    print(\"Hello from {:s}\".format(id))\n",
    "    \n",
    "job = mp.Process(target=sayhello)\n",
    "job.start()\n",
    "\n",
    "# Wait for job to finish\n",
    "job.join()\n",
    "\n",
    "print(\"All done \")"
   ]
  },
  {
   "cell_type": "code",
   "execution_count": 5,
   "metadata": {},
   "outputs": [
    {
     "name": "stdout",
     "output_type": "stream",
     "text": [
      "Hello from Process-4\n",
      "Hello from Process-5\n",
      "Hello from Process-6\n",
      "Hello from Process-7\n",
      "Hello from Process-8\n",
      "Hello from Process-9\n",
      "Hello from Process-10\n",
      "Hello from Process-11\n",
      "Hello from Process-12\n",
      "Hello from Process-13\n",
      "All done \n"
     ]
    }
   ],
   "source": [
    "def sayhello():\n",
    "    id = mp.current_process().name\n",
    "    print(\"Hello from {:s}\".format(id))\n",
    " \n",
    "procs = 10\n",
    "jobs = []\n",
    "for i in range(procs):\n",
    "    p = mp.Process(target=sayhello)\n",
    "    p.start()\n",
    "    jobs.append(p)   # List of jobs\n",
    "\n",
    "for j in jobs:\n",
    "    j.join()     # Wait for each job to join \n",
    "        \n",
    "print(\"All done \")"
   ]
  },
  {
   "cell_type": "code",
   "execution_count": 6,
   "metadata": {},
   "outputs": [
    {
     "name": "stdout",
     "output_type": "stream",
     "text": [
      "Hello from Process-14\n",
      "Hello from Process-15\n",
      "Hello from Process-16\n",
      "Hello from Process-17\n",
      "Hello from Process-18\n",
      "Hello from Process-19\n",
      "Hello from Process-20\n",
      "Hello from Process-21\n",
      "Hello from Process-22\n",
      "Hello from Process-23\n",
      "Done with job Process-14\n",
      "Done with job Process-15\n",
      "Done with job Process-16\n",
      "Done with job Process-17\n",
      "Done with job Process-18\n",
      "Done with job Process-19\n",
      "Done with job Process-20\n",
      "Done with job Process-21\n",
      "Done with job Process-22\n",
      "Done with job Process-23\n",
      "All done \n"
     ]
    }
   ],
   "source": [
    "import time\n",
    "\n",
    "def sayhello():\n",
    "    id = mp.current_process().name\n",
    "    print(\"Hello from {:s}\".format(id))\n",
    "    time.sleep(10)\n",
    "    print(\"Done with job {:s}\".format(id))\n",
    "\n",
    "procs = 10\n",
    "jobs = []\n",
    "for i in range(procs):\n",
    "    job = mp.Process(target=sayhello)\n",
    "    jobs.append(job)   # List of jobs\n",
    "    \n",
    "for job in jobs:\n",
    "    job.start()\n",
    "    \n",
    "for job in jobs:\n",
    "    job.join()     # Wait for each job to join \n",
    "        \n",
    "print(\"All done \")"
   ]
  },
  {
   "cell_type": "code",
   "execution_count": null,
   "metadata": {},
   "outputs": [],
   "source": []
  }
 ],
 "metadata": {
  "kernelspec": {
   "display_name": "Python 3",
   "language": "python",
   "name": "python3"
  },
  "language_info": {
   "codemirror_mode": {
    "name": "ipython",
    "version": 3
   },
   "file_extension": ".py",
   "mimetype": "text/x-python",
   "name": "python",
   "nbconvert_exporter": "python",
   "pygments_lexer": "ipython3",
   "version": "3.7.4"
  }
 },
 "nbformat": 4,
 "nbformat_minor": 2
}
