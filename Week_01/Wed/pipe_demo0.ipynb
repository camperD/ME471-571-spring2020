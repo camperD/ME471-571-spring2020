{
 "cells": [
  {
   "cell_type": "code",
   "execution_count": null,
   "metadata": {},
   "outputs": [],
   "source": [
    "import multiprocessing as mp"
   ]
  },
  {
   "cell_type": "code",
   "execution_count": null,
   "metadata": {},
   "outputs": [],
   "source": [
    "def get_value(ppipe):\n",
    "    x = ppipe.recv()\n",
    "    print(\"s is {:.2f}\".format(x))\n",
    "    \n",
    "ppipe,cpipe = mp.Pipe()\n",
    "\n",
    "cpipe.send(3.0)\n",
    "x = ppipe.recv()\n",
    "\n",
    "ppipe.send(-8.1)\n",
    "y = cpipe.recv()\n",
    "\n",
    "\n",
    "print(\"x = {:.2f}\".format(x))\n",
    "print(\"y = {:.2f}\".format(y))"
   ]
  },
  {
   "cell_type": "code",
   "execution_count": null,
   "metadata": {},
   "outputs": [],
   "source": []
  }
 ],
 "metadata": {
  "kernelspec": {
   "display_name": "Python 3",
   "language": "python",
   "name": "python3"
  },
  "language_info": {
   "codemirror_mode": {
    "name": "ipython",
    "version": 3
   },
   "file_extension": ".py",
   "mimetype": "text/x-python",
   "name": "python",
   "nbconvert_exporter": "python",
   "pygments_lexer": "ipython3",
   "version": "3.7.4"
  }
 },
 "nbformat": 4,
 "nbformat_minor": 2
}
