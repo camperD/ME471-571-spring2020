{
 "cells": [
  {
   "cell_type": "markdown",
   "metadata": {},
   "source": [
    "## Passing arguments to processes. "
   ]
  },
  {
   "cell_type": "code",
   "execution_count": 5,
   "metadata": {},
   "outputs": [],
   "source": [
    "import multiprocessing as mp"
   ]
  },
  {
   "cell_type": "code",
   "execution_count": 6,
   "metadata": {},
   "outputs": [
    {
     "name": "stdout",
     "output_type": "stream",
     "text": [
      "'Process-2' will add x and y\n",
      "Answer :  12\n"
     ]
    }
   ],
   "source": [
    "def hello(task,x,y):\n",
    "    id = mp.current_process().name\n",
    "    print(\"'{:s}' will {:s} x and y\".format(id,task))\n",
    "    z = x + y\n",
    "    print(\"Answer :  {:d}\".format(z))\n",
    "\n",
    "x = 5\n",
    "y = 7\n",
    "job = mp.Process(target=hello,args=['add',x,y])\n",
    "job.start()"
   ]
  },
  {
   "cell_type": "code",
   "execution_count": null,
   "metadata": {},
   "outputs": [],
   "source": []
  }
 ],
 "metadata": {
  "kernelspec": {
   "display_name": "Python 3",
   "language": "python",
   "name": "python3"
  },
  "language_info": {
   "codemirror_mode": {
    "name": "ipython",
    "version": 3
   },
   "file_extension": ".py",
   "mimetype": "text/x-python",
   "name": "python",
   "nbconvert_exporter": "python",
   "pygments_lexer": "ipython3",
   "version": "3.7.4"
  }
 },
 "nbformat": 4,
 "nbformat_minor": 2
}
